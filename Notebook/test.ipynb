{
 "cells": [
  {
   "cell_type": "code",
   "execution_count": 1,
   "metadata": {},
   "outputs": [],
   "source": [
    "import pandas as pd\n"
   ]
  },
  {
   "cell_type": "code",
   "execution_count": 4,
   "metadata": {},
   "outputs": [
    {
     "name": "stdout",
     "output_type": "stream",
     "text": [
      "Collecting pyodbc\n",
      "  Downloading pyodbc-5.1.0-cp311-cp311-win_amd64.whl.metadata (2.8 kB)\n",
      "Downloading pyodbc-5.1.0-cp311-cp311-win_amd64.whl (68 kB)\n",
      "   ---------------------------------------- 0.0/68.7 kB ? eta -:--:--\n",
      "   ----------------- ---------------------- 30.7/68.7 kB ? eta -:--:--\n",
      "   ----------------------------------- ---- 61.4/68.7 kB 550.5 kB/s eta 0:00:01\n",
      "   ----------------------------------- ---- 61.4/68.7 kB 550.5 kB/s eta 0:00:01\n",
      "   ----------------------------------- ---- 61.4/68.7 kB 550.5 kB/s eta 0:00:01\n",
      "   ----------------------------------- ---- 61.4/68.7 kB 550.5 kB/s eta 0:00:01\n",
      "   ----------------------------------- ---- 61.4/68.7 kB 550.5 kB/s eta 0:00:01\n",
      "   ----------------------------------- ---- 61.4/68.7 kB 550.5 kB/s eta 0:00:01\n",
      "   ----------------------------------- ---- 61.4/68.7 kB 550.5 kB/s eta 0:00:01\n",
      "   ----------------------------------- ---- 61.4/68.7 kB 550.5 kB/s eta 0:00:01\n",
      "   ----------------------------------- ---- 61.4/68.7 kB 550.5 kB/s eta 0:00:01\n",
      "   ----------------------------------- ---- 61.4/68.7 kB 550.5 kB/s eta 0:00:01\n",
      "   ----------------------------------- ---- 61.4/68.7 kB 550.5 kB/s eta 0:00:01\n",
      "   ----------------------------------- ---- 61.4/68.7 kB 550.5 kB/s eta 0:00:01\n",
      "   ----------------------------------- ---- 61.4/68.7 kB 550.5 kB/s eta 0:00:01\n",
      "   ----------------------------------- ---- 61.4/68.7 kB 550.5 kB/s eta 0:00:01\n",
      "   ----------------------------------- ---- 61.4/68.7 kB 550.5 kB/s eta 0:00:01\n",
      "   ----------------------------------- ---- 61.4/68.7 kB 550.5 kB/s eta 0:00:01\n",
      "   ----------------------------------- ---- 61.4/68.7 kB 550.5 kB/s eta 0:00:01\n",
      "   ----------------------------------- ---- 61.4/68.7 kB 550.5 kB/s eta 0:00:01\n",
      "   ----------------------------------- ---- 61.4/68.7 kB 550.5 kB/s eta 0:00:01\n",
      "   ----------------------------------- ---- 61.4/68.7 kB 550.5 kB/s eta 0:00:01\n",
      "   ----------------------------------- ---- 61.4/68.7 kB 550.5 kB/s eta 0:00:01\n",
      "   ---------------------------------------- 68.7/68.7 kB 52.8 kB/s eta 0:00:00\n",
      "Installing collected packages: pyodbc\n",
      "Successfully installed pyodbc-5.1.0\n"
     ]
    }
   ],
   "source": [
    "!pip  install pyodbc"
   ]
  },
  {
   "cell_type": "code",
   "execution_count": 5,
   "metadata": {},
   "outputs": [],
   "source": [
    "from dotenv import dotenv_values  # Import the dotenv_values function from the dotenv package\n",
    "import pandas as pd\n",
    "import warnings \n",
    "import pyodbc\n",
    "warnings.filterwarnings(\"ignore\")"
   ]
  },
  {
   "cell_type": "code",
   "execution_count": null,
   "metadata": {},
   "outputs": [],
   "source": [
    "environment_variables = dotenv_values('.env')\n",
    "# we are getting values from our dotenv files to extract the database,server,login and password.\n",
    "\n",
    "database= environment_variables.get(\"database\")\n",
    "server=environment_variables.get(\"server\")\n",
    "username= environment_variables.get(\"Login\")\n",
    "password= environment_variables.get(\"password\")\n",
    "connection_\n"
   ]
  }
 ],
 "metadata": {
  "kernelspec": {
   "display_name": "Python 3",
   "language": "python",
   "name": "python3"
  },
  "language_info": {
   "codemirror_mode": {
    "name": "ipython",
    "version": 3
   },
   "file_extension": ".py",
   "mimetype": "text/x-python",
   "name": "python",
   "nbconvert_exporter": "python",
   "pygments_lexer": "ipython3",
   "version": "3.11.4"
  }
 },
 "nbformat": 4,
 "nbformat_minor": 2
}
